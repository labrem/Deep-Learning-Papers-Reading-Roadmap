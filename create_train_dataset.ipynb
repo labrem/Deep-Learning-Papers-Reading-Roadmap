{
  "nbformat": 4,
  "nbformat_minor": 0,
  "metadata": {
    "colab": {
      "name": "create_train_dataset.ipynb",
      "provenance": []
    },
    "kernelspec": {
      "name": "python3",
      "display_name": "Python 3"
    }
  },
  "cells": [
    {
      "cell_type": "code",
      "metadata": {
        "id": "3R6rRqZzi19l",
        "colab_type": "code",
        "colab": {}
      },
      "source": [
        "import pandas as pd\n",
        "from datetime import datetime, timedelta\n",
        "import numpy as np"
      ],
      "execution_count": 0,
      "outputs": []
    },
    {
      "cell_type": "markdown",
      "metadata": {
        "id": "_EgfcjKYjFSq",
        "colab_type": "text"
      },
      "source": [
        "## Google Drive"
      ]
    },
    {
      "cell_type": "code",
      "metadata": {
        "id": "_5GTYMwPjCyO",
        "colab_type": "code",
        "colab": {}
      },
      "source": [
        "from google.colab import drive\n",
        "drive.mount('/content/drive/',force_remount=True)"
      ],
      "execution_count": 0,
      "outputs": []
    },
    {
      "cell_type": "code",
      "metadata": {
        "id": "_P5w2tDTjC9q",
        "colab_type": "code",
        "colab": {}
      },
      "source": [
        "path = 'drive/My Drive/marcelo/initiatives/virida.ai/shared/data/'"
      ],
      "execution_count": 0,
      "outputs": []
    },
    {
      "cell_type": "markdown",
      "metadata": {
        "id": "IBiI6HG6jKeC",
        "colab_type": "text"
      },
      "source": [
        "## Gold Standard dataset"
      ]
    },
    {
      "cell_type": "code",
      "metadata": {
        "id": "6VHR7Re8kqk0",
        "colab_type": "code",
        "colab": {}
      },
      "source": [
        "gs_projects = pd.read_pickle(path+'projects/gold_standard_2019-11-17.pkl')\n",
        "gs_ver = pd.read_pickle(path+'projects/gold_standard_details_2019-12-13.pkl')"
      ],
      "execution_count": 0,
      "outputs": []
    },
    {
      "cell_type": "markdown",
      "metadata": {
        "id": "dK75GqSAjYOk",
        "colab_type": "text"
      },
      "source": [
        "#### Extract vintages and issuances from GS data"
      ]
    },
    {
      "cell_type": "code",
      "metadata": {
        "id": "JXIEbUP-jDAb",
        "colab_type": "code",
        "colab": {}
      },
      "source": [
        "# Take one row of issuances dataframe and splits into ranges within each vintage/year\n",
        "def extract_vintages_gs(issuance,date_format):\n",
        "\n",
        "  # Convert dates from string\n",
        "  date_begin = pd.to_datetime(issuance['monitoring_period_start_date'],format=date_format)\n",
        "  date_end = pd.to_datetime(issuance['monitoring_period_end_date'],format=date_format)\n",
        "\n",
        "  # Extract date range for vintage\n",
        "  # Take into account begin and end of monitoring period for pro-rated issuances\n",
        "  df = {'vintage':[issuance['vintage']],\n",
        "        'begin':[max(datetime(int(issuance['vintage']),1,1),date_begin)],\n",
        "        'end':[min(datetime(int(issuance['vintage']),12,31),date_end)],\n",
        "        'monitoring_begin':date_begin,\n",
        "        'monitoring_end':date_end,\n",
        "        'issued':[issuance['number_of_credits']]}\n",
        "\n",
        "  return pd.DataFrame(df)"
      ],
      "execution_count": 0,
      "outputs": []
    },
    {
      "cell_type": "code",
      "metadata": {
        "id": "rWXpGXkyjK5L",
        "colab_type": "code",
        "colab": {}
      },
      "source": [
        "def extract_issuances_gs(ids,issuances,projects,date_format='%Y-%m-%d'):\n",
        "# Extract all issuances from GS raw data\n",
        "\n",
        "  # Run issuances extraction\n",
        "  w = []\n",
        "  for i in ids:\n",
        "    # Subset by project, only VERs that were issued (not retired, duplicated in raw date)\n",
        "    k = issuances['project.id']==i\n",
        "    y = issuances[k].groupby(['monitoring_period_start_date',\n",
        "                              'monitoring_period_end_date',\n",
        "                              'vintage'])['number_of_credits'].sum().to_frame().reset_index()\n",
        "\n",
        "    # Compute date ranges for vintages, given multi-year monitoring period\n",
        "    x = []\n",
        "    for j in range(len(y)):\n",
        "      x = x+[extract_vintages_gs(y.loc[j,:],date_format=date_format)]\n",
        "    y = pd.concat(x).reset_index(drop=True)\n",
        "\n",
        "    # Consolidate date ranges by vintage\n",
        "    # Add a period with zero issuance at the crediting_period_start_date\n",
        "    # Make the begin date the minimum of all dates for a certain vintage \n",
        "    # Make the end date the maximum of all dates for a certain vintage\n",
        "    y = pd.concat([y.groupby(['vintage'])['issued'].sum().to_frame().reset_index(),\n",
        "                   y.groupby(['vintage'])['begin'].min().reset_index()['begin'],\n",
        "                   y.groupby(['vintage'])['end'].max().reset_index()['end'],\n",
        "                   y.groupby(['vintage'])['monitoring_begin'].min().reset_index()['monitoring_begin'],\n",
        "                   y.groupby(['vintage'])['monitoring_end'].max().reset_index()['monitoring_end']],axis=1)\n",
        "\n",
        "    # Complete date gaps in monitoring with zero issuance\n",
        "    b = y['begin'].shift(periods=-1).dropna().reset_index(drop=True)-np.timedelta64(1,'D')\n",
        "    if (len(b)>0):\n",
        "      a = y['end'].shift(periods=1).dropna().reset_index(drop=True)\n",
        "      x = b-a\n",
        "      k = x>np.timedelta64(0,'D')\n",
        "      if (sum(k)>0):\n",
        "        c = {'begin':a[k].reset_index(drop=True)+np.timedelta64(1,'D'),\n",
        "             'end':b[k].reset_index(drop=True),\n",
        "             'issued':[0]*sum(k),\n",
        "             'monitoring_begin':y['monitoring_begin'][k],\n",
        "             'monitoring_end':y['monitoring_end'][k]}\n",
        "        y = pd.concat([y,pd.DataFrame(c)]).reset_index(drop=True)\n",
        "\n",
        "    # Add project id, pro-rated annual estimated emissions\n",
        "    # Compute issuance rate and issuance count\n",
        "    # Add crediting period dates\n",
        "    y['id'] = i\n",
        "    a = projects[projects['id']==i]['estimated_annual_credits'].values[0]\n",
        "    y['annual'] = a*(y['end']-y['begin']).dt.days.astype('int')/365\n",
        "    y['rate'] = y['issued']/y['annual']\n",
        "    y = y.reset_index()\n",
        "    y['count'] = y.index+1\n",
        "    k = projects['id']==i\n",
        "    y['crediting_begin'] = pd.to_datetime(projects[k]['crediting_period_start_date']\n",
        "                                          .values[0],format=date_format)\n",
        "    y['crediting_end'] = pd.to_datetime(projects[k]['crediting_period_end_date']\n",
        "                                          .values[0],format=date_format)\n",
        "    #y['crediting_begin'] = projects[projects['id']==i]['crediting_period_start_date'].values[0]\n",
        "    #y['crediting_end'] = projects[projects['id']==i]['crediting_period_end_date'].values[0]\n",
        "\n",
        "    w = w+[y[['id','vintage','issued','annual','rate','count','begin','end',\n",
        "              'monitoring_begin','monitoring_end','crediting_begin','crediting_end']]]\n",
        "\n",
        "  return pd.concat(w).reset_index(drop=True)"
      ],
      "execution_count": 0,
      "outputs": []
    },
    {
      "cell_type": "code",
      "metadata": {
        "id": "5_fz7wsujK7z",
        "colab_type": "code",
        "colab": {}
      },
      "source": [
        "# Filter out projects that have not issued VERs\n",
        "k = (gs_ver['product.abbreviation']=='VER')&(gs_ver['status']=='ISSUED')\n",
        "ver = gs_ver[k]\n",
        "ids = pd.unique(ver['project.id'])[:5]\n",
        "#ids = ['1806']\n",
        "extract_issuances_gs(ids=ids,issuances=ver,projects=gs_projects)"
      ],
      "execution_count": 0,
      "outputs": []
    },
    {
      "cell_type": "code",
      "metadata": {
        "id": "ViEue0iZjstN",
        "colab_type": "code",
        "colab": {}
      },
      "source": [
        "ids = pd.unique(gs_ver['project.id'])[:20]\n",
        "gs_ver[gs_ver['project.id']==ids[2]]"
      ],
      "execution_count": 0,
      "outputs": []
    },
    {
      "cell_type": "code",
      "metadata": {
        "id": "qocPxYw7js1N",
        "colab_type": "code",
        "colab": {}
      },
      "source": [
        "k = gs_projects['id']=='1809'\n",
        "gs_projects[k]"
      ],
      "execution_count": 0,
      "outputs": []
    },
    {
      "cell_type": "markdown",
      "metadata": {
        "id": "vOaUMfhtjwwd",
        "colab_type": "text"
      },
      "source": [
        "## Verra dataset"
      ]
    },
    {
      "cell_type": "code",
      "metadata": {
        "id": "zZciOYOqkQ2e",
        "colab_type": "code",
        "colab": {}
      },
      "source": [
        "verra_vcu = pd.read_pickle(path+'projects/verra_vcu_main_2019-11-17.pkl')\n",
        "verra_projects = pd.read_pickle(path+'projects/verra_projects_2019-11-17.pkl')\n",
        "verra_details = pd.read_pickle(path+'projects/verra_details_2019-11-17.pkl')"
      ],
      "execution_count": 0,
      "outputs": []
    },
    {
      "cell_type": "markdown",
      "metadata": {
        "id": "xEio7kfoj4W7",
        "colab_type": "text"
      },
      "source": [
        "#### Extract vintages and issuances from Verra data"
      ]
    },
    {
      "cell_type": "code",
      "metadata": {
        "id": "GIVE1OFijs4N",
        "colab_type": "code",
        "colab": {}
      },
      "source": [
        "def extract_vintages_verra(issuance,date_format):\n",
        "# Extract vintages given a monitoring date range, which may be multi-year\n",
        "\n",
        "  # Compute vintage date ranges given monitoring range\n",
        "  y = pd.unique(pd.to_datetime(pd.date_range(start=issuance['vintagePeriodStart'][0],\n",
        "                                             end=issuance['vintagePeriodEnd'][0]-\n",
        "                                             timedelta(days=1),freq='D')).year)\n",
        "  d = [[datetime(x,1,1),datetime(x,12,31)] for x in y]\n",
        "  \n",
        "  # Split dataframe according to vintage date ranges\n",
        "  issuance['range'] = [d]\n",
        "  issuance = issuance.explode('range')\n",
        "  issuance = pd.concat([issuance,issuance['range'].apply(pd.Series).reindex()],axis=1)\n",
        "  issuance.columns = ['monitoring_begin','monitoring_end',\n",
        "                      'issued','annual','range','begin','end']\n",
        "  issuance['begin'] = issuance[['monitoring_begin','begin']].max(axis=1)\n",
        "  issuance['end'] = issuance[['monitoring_end','end']].min(axis=1)\n",
        "\n",
        "  # Compute issuance share in date range\n",
        "  issuance['share'] = (issuance['end']-issuance['begin']).dt.days.astype('int')/(\n",
        "      issuance['monitoring_end']-issuance['monitoring_begin']).dt.days.astype('int')\n",
        "  issuance['issued'] = issuance['issued']*issuance['share']\n",
        "\n",
        "  # Extract vintage\n",
        "  issuance['vintage'] = pd.DatetimeIndex(issuance['end']).year\n",
        "\n",
        "  # Adjust annual estimated by date range\n",
        "  issuance['annual'] = issuance['annual']*(issuance['end']-issuance['begin']).dt.days.astype('int')/365\n",
        "  #issuance = issuance[['vintage','begin','end','issued','annual']]\n",
        "\n",
        "  return issuance[['vintage','begin','end','issued','annual','monitoring_begin','monitoring_end']]"
      ],
      "execution_count": 0,
      "outputs": []
    },
    {
      "cell_type": "code",
      "metadata": {
        "id": "d1HHhq89js61",
        "colab_type": "code",
        "colab": {}
      },
      "source": [
        "def extract_issuances_verra(ids,issuances,projects,date_format='%Y-%m-%d'):\n",
        "# Extract all issuances by project, vintage, issued amount, annual estimated, issuance rate and issuance count\n",
        "\n",
        "  # Convert dates from string\n",
        "  issuances['vintagePeriodStart'] = pd.to_datetime(issuances['vintagePeriodStart'],\n",
        "                                                   format=date_format)\n",
        "  issuances['vintagePeriodEnd'] = pd.to_datetime(issuances['vintagePeriodEnd'],\n",
        "                                                 format=date_format)\n",
        "  \n",
        "  # Run issuances extraction\n",
        "  w = []\n",
        "  for i in ids:\n",
        "    # Subset by project\n",
        "    k = issuances['projectId']==i\n",
        "    y = issuances[k].groupby(['vintagePeriodStart',\n",
        "                              'vintagePeriodEnd']\n",
        "                             )['quantityToIssue'].sum().to_frame().reset_index()\n",
        "    \n",
        "    # Complete date gaps in monitoring with zero issuance \n",
        "    b = y['vintagePeriodStart'].shift(periods=-1).dropna().reset_index(drop=True)-np.timedelta64(1,'D')\n",
        "    if (len(b)>0):\n",
        "      a = y['vintagePeriodEnd'].shift(periods=1).dropna().reset_index(drop=True)\n",
        "      x = b-a\n",
        "      k = x>np.timedelta64(0,'D')\n",
        "      if (sum(k)>0):\n",
        "        c = {'vintagePeriodStart':a[k].reset_index(drop=True)+np.timedelta64(1,'D'),\n",
        "             'vintagePeriodEnd':b[k].reset_index(drop=True),\n",
        "             'quantityToIssue':[0]*sum(k)}\n",
        "        y = pd.concat([y,pd.DataFrame(c)]).reset_index(drop=True)\n",
        "\n",
        "    # Add annual estimated emission reductions to dataframe\n",
        "    k = projects['projectId']==i\n",
        "    y['annual'] = projects[k]['estimatedAnnualEmissionReductions'].values[0]\n",
        "\n",
        "    # Extract date ranges, issuances and annual estimated by vintage\n",
        "    x = []\n",
        "    for j in range(len(y)):\n",
        "      v = y[j:(j+1)]\n",
        "      v = v.reset_index(drop=True)\n",
        "      x = x+[extract_vintages_verra(v,date_format=date_format)]\n",
        "    y = pd.concat(x).reset_index(drop=True)\n",
        "    y = pd.concat([y.groupby(['vintage']).sum()[['issued','annual']].reset_index(),\n",
        "                   y.groupby(['vintage'])['begin'].min().reset_index()['begin'],\n",
        "                   y.groupby(['vintage'])['end'].max().reset_index()['end'],\n",
        "                   y.groupby(['vintage'])['monitoring_begin'].min().reset_index()['monitoring_begin'],\n",
        "                   y.groupby(['vintage'])['monitoring_end'].max().reset_index()['monitoring_end']],axis=1)\n",
        "\n",
        "    # Compute issuance rate,  issuance count and add project ID\n",
        "    y['rate'] = y['issued']/y['annual']\n",
        "    y = y.reset_index()\n",
        "    y['count'] = y.index+1\n",
        "    y['id'] = i\n",
        "\n",
        "    w = w+[y[['id','vintage','issued','annual','rate','count','begin','end','monitoring_begin','monitoring_end']]]\n",
        "\n",
        "  return pd.concat(w).reset_index(drop=True)"
      ],
      "execution_count": 0,
      "outputs": []
    },
    {
      "cell_type": "code",
      "metadata": {
        "id": "2dEsjl_ojs9k",
        "colab_type": "code",
        "colab": {}
      },
      "source": [
        "ids = pd.unique(verra_vcu['projectId'])[0:10]\n",
        "#ids = ['1094']\n",
        "extract_issuances_verra(ids=ids,issuances=verra_vcu,projects=verra_projects)"
      ],
      "execution_count": 0,
      "outputs": []
    },
    {
      "cell_type": "code",
      "metadata": {
        "id": "4wecuPHvj6Sd",
        "colab_type": "code",
        "colab": {}
      },
      "source": [
        "verra_vcu[0:5]"
      ],
      "execution_count": 0,
      "outputs": []
    },
    {
      "cell_type": "code",
      "metadata": {
        "id": "kheEMHpDj6U9",
        "colab_type": "code",
        "colab": {}
      },
      "source": [
        ""
      ],
      "execution_count": 0,
      "outputs": []
    },
    {
      "cell_type": "code",
      "metadata": {
        "id": "RcZZktpDjtAF",
        "colab_type": "code",
        "colab": {}
      },
      "source": [
        ""
      ],
      "execution_count": 0,
      "outputs": []
    }
  ]
}