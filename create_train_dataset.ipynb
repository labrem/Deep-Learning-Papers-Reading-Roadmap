{
  "nbformat": 4,
  "nbformat_minor": 0,
  "metadata": {
    "colab": {
      "name": "create_train_dataset.ipynb",
      "provenance": []
    },
    "kernelspec": {
      "name": "python3",
      "display_name": "Python 3"
    }
  },
  "cells": [
    {
      "cell_type": "code",
      "metadata": {
        "id": "3R6rRqZzi19l",
        "colab_type": "code",
        "colab": {}
      },
      "source": [
        "import pandas as pd\n",
        "from datetime import datetime, timedelta\n",
        "import numpy as np\n",
        "import requests\n",
        "import json\n",
        "import re"
      ],
      "execution_count": 0,
      "outputs": []
    },
    {
      "cell_type": "markdown",
      "metadata": {
        "id": "_EgfcjKYjFSq",
        "colab_type": "text"
      },
      "source": [
        "## Google Drive"
      ]
    },
    {
      "cell_type": "code",
      "metadata": {
        "id": "_5GTYMwPjCyO",
        "colab_type": "code",
        "colab": {
          "base_uri": "https://localhost:8080/",
          "height": 35
        },
        "outputId": "8780e723-358d-4b98-cc75-fd3f2704dc21"
      },
      "source": [
        "from google.colab import drive\n",
        "drive.mount('/content/drive/',force_remount=True)"
      ],
      "execution_count": 2,
      "outputs": [
        {
          "output_type": "stream",
          "text": [
            "Mounted at /content/drive/\n"
          ],
          "name": "stdout"
        }
      ]
    },
    {
      "cell_type": "code",
      "metadata": {
        "id": "_P5w2tDTjC9q",
        "colab_type": "code",
        "colab": {}
      },
      "source": [
        "path = 'drive/My Drive/marcelo/initiatives/virida.ai/shared/data/'"
      ],
      "execution_count": 0,
      "outputs": []
    },
    {
      "cell_type": "markdown",
      "metadata": {
        "id": "IBiI6HG6jKeC",
        "colab_type": "text"
      },
      "source": [
        "## Gold Standard dataset"
      ]
    },
    {
      "cell_type": "code",
      "metadata": {
        "id": "6VHR7Re8kqk0",
        "colab_type": "code",
        "colab": {}
      },
      "source": [
        "gs_projects = pd.read_pickle(path+'projects/gold_standard_2019-11-17.pkl')\n",
        "gs_ver = pd.read_pickle(path+'projects/gold_standard_details_2019-12-13.pkl')"
      ],
      "execution_count": 0,
      "outputs": []
    },
    {
      "cell_type": "code",
      "metadata": {
        "id": "ViEue0iZjstN",
        "colab_type": "code",
        "colab": {}
      },
      "source": [
        "ids = pd.unique(gs_ver['project.id'])[:20]\n",
        "gs_ver[gs_ver['project.id']==ids[2]]"
      ],
      "execution_count": 0,
      "outputs": []
    },
    {
      "cell_type": "code",
      "metadata": {
        "id": "qocPxYw7js1N",
        "colab_type": "code",
        "colab": {
          "base_uri": "https://localhost:8080/",
          "height": 167
        },
        "outputId": "0af29d4a-147a-44e8-c9c7-8b6f71d3d41e"
      },
      "source": [
        "k = gs_projects['id']=='1809'\n",
        "gs_projects[k]"
      ],
      "execution_count": 5,
      "outputs": [
        {
          "output_type": "execute_result",
          "data": {
            "text/html": [
              "<div>\n",
              "<style scoped>\n",
              "    .dataframe tbody tr th:only-of-type {\n",
              "        vertical-align: middle;\n",
              "    }\n",
              "\n",
              "    .dataframe tbody tr th {\n",
              "        vertical-align: top;\n",
              "    }\n",
              "\n",
              "    .dataframe thead th {\n",
              "        text-align: right;\n",
              "    }\n",
              "</style>\n",
              "<table border=\"1\" class=\"dataframe\">\n",
              "  <thead>\n",
              "    <tr style=\"text-align: right;\">\n",
              "      <th></th>\n",
              "      <th>carbon_stream</th>\n",
              "      <th>country</th>\n",
              "      <th>country_code</th>\n",
              "      <th>created_at</th>\n",
              "      <th>crediting_period_end_date</th>\n",
              "      <th>crediting_period_start_date</th>\n",
              "      <th>description</th>\n",
              "      <th>estimated_annual_credits</th>\n",
              "      <th>gsf_standards_version</th>\n",
              "      <th>id</th>\n",
              "      <th>latitude</th>\n",
              "      <th>longitude</th>\n",
              "      <th>methodology</th>\n",
              "      <th>name</th>\n",
              "      <th>owner</th>\n",
              "      <th>owner.created_at</th>\n",
              "      <th>owner.id</th>\n",
              "      <th>owner.is_chargeable</th>\n",
              "      <th>owner.number</th>\n",
              "      <th>owner.updated_at</th>\n",
              "      <th>project_developer</th>\n",
              "      <th>size</th>\n",
              "      <th>state</th>\n",
              "      <th>status</th>\n",
              "      <th>sustainable_development_goals</th>\n",
              "      <th>sustaincert_id</th>\n",
              "      <th>sustaincert_url</th>\n",
              "      <th>type</th>\n",
              "      <th>updated_at</th>\n",
              "    </tr>\n",
              "  </thead>\n",
              "  <tbody>\n",
              "    <tr>\n",
              "      <th>15</th>\n",
              "      <td>Reporting Only</td>\n",
              "      <td>Kenya</td>\n",
              "      <td>KE</td>\n",
              "      <td>2019-03-27T13:54:47Z</td>\n",
              "      <td>2018-06-07</td>\n",
              "      <td>2018-06-06</td>\n",
              "      <td>The sustainable agroforestry based dairy value...</td>\n",
              "      <td>100000</td>\n",
              "      <td>0.9</td>\n",
              "      <td>1809</td>\n",
              "      <td>1.1</td>\n",
              "      <td>34.3</td>\n",
              "      <td>Other</td>\n",
              "      <td>Sustainable Agroforestry Based Dairy Value Cha...</td>\n",
              "      <td>NaN</td>\n",
              "      <td>2019-03-27T11:23:57Z</td>\n",
              "      <td>979</td>\n",
              "      <td>False</td>\n",
              "      <td>1043294</td>\n",
              "      <td>2019-03-27T11:23:57Z</td>\n",
              "      <td>Livelihoods Fund SICAV SIF</td>\n",
              "      <td>Microscale</td>\n",
              "      <td>None</td>\n",
              "      <td>GOLD_STANDARD_CERTIFIED_DESIGN</td>\n",
              "      <td>[{'name': 'Goal 12: Responsible Production and...</td>\n",
              "      <td>6588</td>\n",
              "      <td>https://impact.sustain-cert.com/public_project...</td>\n",
              "      <td>Other</td>\n",
              "      <td>2019-08-26T19:09:59Z</td>\n",
              "    </tr>\n",
              "  </tbody>\n",
              "</table>\n",
              "</div>"
            ],
            "text/plain": [
              "     carbon_stream country  ...   type            updated_at\n",
              "15  Reporting Only   Kenya  ...  Other  2019-08-26T19:09:59Z\n",
              "\n",
              "[1 rows x 29 columns]"
            ]
          },
          "metadata": {
            "tags": []
          },
          "execution_count": 5
        }
      ]
    },
    {
      "cell_type": "markdown",
      "metadata": {
        "id": "dK75GqSAjYOk",
        "colab_type": "text"
      },
      "source": [
        "#### Extract vintages and issuances from GS data"
      ]
    },
    {
      "cell_type": "code",
      "metadata": {
        "id": "JXIEbUP-jDAb",
        "colab_type": "code",
        "colab": {}
      },
      "source": [
        "# Take one row of issuances dataframe and splits into ranges within each vintage/year\n",
        "def extract_vintages_gs(issuance,date_format):\n",
        "\n",
        "  # Convert dates from string\n",
        "  date_begin = pd.to_datetime(issuance['monitoring_period_start_date'],format=date_format)\n",
        "  date_end = pd.to_datetime(issuance['monitoring_period_end_date'],format=date_format)\n",
        "\n",
        "  # Extract date range for vintage\n",
        "  # Take into account begin and end of monitoring period for pro-rated issuances\n",
        "  df = {'vintage':[issuance['vintage']],\n",
        "        'begin':[max(datetime(int(issuance['vintage']),1,1),date_begin)],\n",
        "        'end':[min(datetime(int(issuance['vintage']),12,31),date_end)],\n",
        "        'monitoring_begin':date_begin,\n",
        "        'monitoring_end':date_end,\n",
        "        'issued':[issuance['number_of_credits']]}\n",
        "\n",
        "  return pd.DataFrame(df)"
      ],
      "execution_count": 0,
      "outputs": []
    },
    {
      "cell_type": "code",
      "metadata": {
        "id": "rWXpGXkyjK5L",
        "colab_type": "code",
        "colab": {}
      },
      "source": [
        "def extract_issuances_gs(ids,issuances,projects,date_format='%Y-%m-%d'):\n",
        "# Extract all issuances from GS raw data\n",
        "\n",
        "  # Run issuances extraction\n",
        "  w = []\n",
        "  for i in ids:\n",
        "    # Subset by project, only VERs that were issued (not retired, duplicated in raw date)\n",
        "    k = issuances['project.id']==i\n",
        "    y = issuances[k].groupby(['monitoring_period_start_date',\n",
        "                              'monitoring_period_end_date',\n",
        "                              'vintage'])['number_of_credits'].sum().to_frame().reset_index()\n",
        "\n",
        "    # Compute date ranges for vintages, given multi-year monitoring period\n",
        "    x = []\n",
        "    for j in range(len(y)):\n",
        "      x = x+[extract_vintages_gs(y.loc[j,:],date_format=date_format)]\n",
        "    y = pd.concat(x).reset_index(drop=True)\n",
        "\n",
        "    # Consolidate date ranges by vintage\n",
        "    # Add a period with zero issuance at the crediting_period_start_date\n",
        "    # Make the begin date the minimum of all dates for a certain vintage \n",
        "    # Make the end date the maximum of all dates for a certain vintage\n",
        "    y = pd.concat([y.groupby(['vintage'])['issued'].sum().to_frame().reset_index(),\n",
        "                   y.groupby(['vintage'])['begin'].min().reset_index()['begin'],\n",
        "                   y.groupby(['vintage'])['end'].max().reset_index()['end'],\n",
        "                   y.groupby(['vintage'])['monitoring_begin'].min().reset_index()['monitoring_begin'],\n",
        "                   y.groupby(['vintage'])['monitoring_end'].max().reset_index()['monitoring_end']],axis=1)\n",
        "\n",
        "    # Complete date gaps in monitoring with zero issuance\n",
        "    b = y['begin'].shift(periods=-1).dropna().reset_index(drop=True)-np.timedelta64(1,'D')\n",
        "    if (len(b)>0):\n",
        "      a = y['end'].shift(periods=1).dropna().reset_index(drop=True)\n",
        "      x = b-a\n",
        "      k = x>np.timedelta64(0,'D')\n",
        "      if (sum(k)>0):\n",
        "        c = {'begin':a[k].reset_index(drop=True)+np.timedelta64(1,'D'),\n",
        "             'end':b[k].reset_index(drop=True),\n",
        "             'issued':[0]*sum(k),\n",
        "             'monitoring_begin':y['monitoring_begin'][k],\n",
        "             'monitoring_end':y['monitoring_end'][k]}\n",
        "        y = pd.concat([y,pd.DataFrame(c)]).reset_index(drop=True)\n",
        "\n",
        "    # Add project id, pro-rated annual estimated emissions\n",
        "    # Compute issuance rate and issuance count\n",
        "    # Add crediting period dates\n",
        "    y['id'] = i\n",
        "    a = projects[projects['id']==i]['estimated_annual_credits'].values[0]\n",
        "    y['annual'] = a*(y['end']-y['begin']).dt.days.astype('int')/365\n",
        "    y['rate'] = y['issued']/y['annual']\n",
        "    y = y.reset_index()\n",
        "    y['count'] = y.index+1\n",
        "    k = projects['id']==i\n",
        "    y['crediting_begin'] = pd.to_datetime(projects[k]['crediting_period_start_date']\n",
        "                                          .values[0],format=date_format)\n",
        "    y['crediting_end'] = pd.to_datetime(projects[k]['crediting_period_end_date']\n",
        "                                          .values[0],format=date_format)\n",
        "\n",
        "    w = w+[y[['id','vintage','issued','annual','rate','count','begin','end',\n",
        "              'monitoring_begin','monitoring_end','crediting_begin','crediting_end']]]\n",
        "\n",
        "  return pd.concat(w).reset_index(drop=True)"
      ],
      "execution_count": 0,
      "outputs": []
    },
    {
      "cell_type": "code",
      "metadata": {
        "id": "5_fz7wsujK7z",
        "colab_type": "code",
        "colab": {}
      },
      "source": [
        "# Filter out projects that have not issued VERs\n",
        "k = (gs_ver['product.abbreviation']=='VER')&(gs_ver['status']=='ISSUED')\n",
        "ver = gs_ver[k]\n",
        "ids = pd.unique(ver['project.id'])[:5]\n",
        "#ids = ['1806']\n",
        "extract_issuances_gs(ids=ids,issuances=ver,projects=gs_projects)"
      ],
      "execution_count": 0,
      "outputs": []
    },
    {
      "cell_type": "markdown",
      "metadata": {
        "id": "FqH-GkKv2kbz",
        "colab_type": "text"
      },
      "source": [
        "#### Get SDGs from GS data"
      ]
    },
    {
      "cell_type": "code",
      "metadata": {
        "id": "Ee5VTUvU2oIj",
        "colab_type": "code",
        "colab": {
          "base_uri": "https://localhost:8080/",
          "height": 181
        },
        "outputId": "164d332f-51f4-416b-d6da-d527fc0d5f5f"
      },
      "source": [
        "k = gs_projects['id']=='1806'\n",
        "gs_projects[k]['sustainable_development_goals'].values[0]"
      ],
      "execution_count": 14,
      "outputs": [
        {
          "output_type": "execute_result",
          "data": {
            "text/plain": [
              "[{'issuable_products': [], 'name': 'Goal 15: Life On Land'},\n",
              " {'issuable_products': [],\n",
              "  'name': 'Goal 12: Responsible Production and Consumption'},\n",
              " {'issuable_products': [{'abbreviation': 'VER',\n",
              "    'name': 'Verified Emission Reduction'},\n",
              "   {'abbreviation': 'CER', 'name': 'Certified Emission Reduction'},\n",
              "   {'abbreviation': 'REC', 'name': 'Renewable Energy Certificate'},\n",
              "   {'abbreviation': 'PER', 'name': 'Planned Emission Reduction'}],\n",
              "  'name': 'Goal 13: Climate Action'}]"
            ]
          },
          "metadata": {
            "tags": []
          },
          "execution_count": 14
        }
      ]
    },
    {
      "cell_type": "code",
      "metadata": {
        "id": "a-4U15sL3JUX",
        "colab_type": "code",
        "colab": {
          "base_uri": "https://localhost:8080/",
          "height": 35
        },
        "outputId": "6a006686-f120-4e3f-cb2b-a5e708c6ce1b"
      },
      "source": [
        "sdg = gs_projects[k]['sustainable_development_goals'].values[0]\n",
        "[re.search(' (.+?):',x['name']).group(1) for x in sdg]"
      ],
      "execution_count": 23,
      "outputs": [
        {
          "output_type": "execute_result",
          "data": {
            "text/plain": [
              "['15', '12', '13']"
            ]
          },
          "metadata": {
            "tags": []
          },
          "execution_count": 23
        }
      ]
    },
    {
      "cell_type": "code",
      "metadata": {
        "id": "aJCMy1fG4hgE",
        "colab_type": "code",
        "colab": {}
      },
      "source": [
        ""
      ],
      "execution_count": 0,
      "outputs": []
    },
    {
      "cell_type": "markdown",
      "metadata": {
        "id": "vOaUMfhtjwwd",
        "colab_type": "text"
      },
      "source": [
        "## Verra dataset"
      ]
    },
    {
      "cell_type": "code",
      "metadata": {
        "id": "zZciOYOqkQ2e",
        "colab_type": "code",
        "colab": {}
      },
      "source": [
        "verra_vcu = pd.read_pickle(path+'projects/verra_vcu_main_2019-11-17.pkl')\n",
        "verra_projects = pd.read_pickle(path+'projects/verra_projects_2019-11-17.pkl')\n",
        "verra_details = pd.read_pickle(path+'projects/verra_details_2019-11-17.pkl')"
      ],
      "execution_count": 0,
      "outputs": []
    },
    {
      "cell_type": "markdown",
      "metadata": {
        "id": "xEio7kfoj4W7",
        "colab_type": "text"
      },
      "source": [
        "#### Extract vintages and issuances from Verra data"
      ]
    },
    {
      "cell_type": "code",
      "metadata": {
        "id": "GIVE1OFijs4N",
        "colab_type": "code",
        "colab": {}
      },
      "source": [
        "def extract_vintages_verra(issuance,date_format):\n",
        "# Extract vintages given a monitoring date range, which may be multi-year\n",
        "\n",
        "  # Compute vintage date ranges given monitoring range\n",
        "  y = pd.unique(pd.to_datetime(pd.date_range(start=issuance['vintagePeriodStart'][0],\n",
        "                                             end=issuance['vintagePeriodEnd'][0]-\n",
        "                                             timedelta(days=1),freq='D')).year)\n",
        "  d = [[datetime(x,1,1),datetime(x,12,31)] for x in y]\n",
        "  \n",
        "  # Split dataframe according to vintage date ranges\n",
        "  issuance['range'] = [d]\n",
        "  issuance = issuance.explode('range')\n",
        "  issuance = pd.concat([issuance,issuance['range'].apply(pd.Series).reindex()],axis=1)\n",
        "  issuance.columns = ['monitoring_begin','monitoring_end',\n",
        "                      'issued','annual','range','begin','end']\n",
        "  issuance['begin'] = issuance[['monitoring_begin','begin']].max(axis=1)\n",
        "  issuance['end'] = issuance[['monitoring_end','end']].min(axis=1)\n",
        "\n",
        "  # Compute issuance share in date range\n",
        "  issuance['share'] = (issuance['end']-issuance['begin']).dt.days.astype('int')/(\n",
        "      issuance['monitoring_end']-issuance['monitoring_begin']).dt.days.astype('int')\n",
        "  issuance['issued'] = issuance['issued']*issuance['share']\n",
        "\n",
        "  # Extract vintage\n",
        "  issuance['vintage'] = pd.DatetimeIndex(issuance['end']).year\n",
        "\n",
        "  # Adjust annual estimated by date range\n",
        "  issuance['annual'] = issuance['annual']*(issuance['end']-issuance['begin']).dt.days.astype('int')/365\n",
        "  #issuance = issuance[['vintage','begin','end','issued','annual']]\n",
        "\n",
        "  return issuance[['vintage','begin','end','issued','annual','monitoring_begin','monitoring_end']]"
      ],
      "execution_count": 0,
      "outputs": []
    },
    {
      "cell_type": "code",
      "metadata": {
        "id": "d1HHhq89js61",
        "colab_type": "code",
        "colab": {}
      },
      "source": [
        "def extract_issuances_verra(ids,issuances,projects,date_format='%Y-%m-%d'):\n",
        "# Extract all issuances by project, vintage, issued amount, annual estimated, issuance rate and issuance count\n",
        "\n",
        "  # Convert dates from string\n",
        "  issuances['vintagePeriodStart'] = pd.to_datetime(issuances['vintagePeriodStart'],\n",
        "                                                   format=date_format)\n",
        "  issuances['vintagePeriodEnd'] = pd.to_datetime(issuances['vintagePeriodEnd'],\n",
        "                                                 format=date_format)\n",
        "  \n",
        "  # Run issuances extraction\n",
        "  w = []\n",
        "  for i in ids:\n",
        "    # Subset by project\n",
        "    k = issuances['projectId']==i\n",
        "    y = issuances[k].groupby(['vintagePeriodStart',\n",
        "                              'vintagePeriodEnd']\n",
        "                             )['quantityToIssue'].sum().to_frame().reset_index()\n",
        "    \n",
        "    # Complete date gaps in monitoring with zero issuance \n",
        "    b = y['vintagePeriodStart'].shift(periods=-1).dropna().reset_index(drop=True)-np.timedelta64(1,'D')\n",
        "    if (len(b)>0):\n",
        "      a = y['vintagePeriodEnd'].shift(periods=1).dropna().reset_index(drop=True)\n",
        "      x = b-a\n",
        "      k = x>np.timedelta64(0,'D')\n",
        "      if (sum(k)>0):\n",
        "        c = {'vintagePeriodStart':a[k].reset_index(drop=True)+np.timedelta64(1,'D'),\n",
        "             'vintagePeriodEnd':b[k].reset_index(drop=True),\n",
        "             'quantityToIssue':[0]*sum(k)}\n",
        "        y = pd.concat([y,pd.DataFrame(c)]).reset_index(drop=True)\n",
        "\n",
        "    # Add annual estimated emission reductions to dataframe\n",
        "    k = projects['projectId']==i\n",
        "    y['annual'] = projects[k]['estimatedAnnualEmissionReductions'].values[0]\n",
        "\n",
        "    # Extract date ranges, issuances and annual estimated by vintage\n",
        "    x = []\n",
        "    for j in range(len(y)):\n",
        "      v = y[j:(j+1)]\n",
        "      v = v.reset_index(drop=True)\n",
        "      x = x+[extract_vintages_verra(v,date_format=date_format)]\n",
        "    y = pd.concat(x).reset_index(drop=True)\n",
        "    y = pd.concat([y.groupby(['vintage']).sum()[['issued','annual']].reset_index(),\n",
        "                   y.groupby(['vintage'])['begin'].min().reset_index()['begin'],\n",
        "                   y.groupby(['vintage'])['end'].max().reset_index()['end'],\n",
        "                   y.groupby(['vintage'])['monitoring_begin'].min().reset_index()['monitoring_begin'],\n",
        "                   y.groupby(['vintage'])['monitoring_end'].max().reset_index()['monitoring_end']],axis=1)\n",
        "\n",
        "    # Compute issuance rate,  issuance count and add project ID\n",
        "    y['rate'] = y['issued']/y['annual']\n",
        "    y = y.reset_index()\n",
        "    y['count'] = y.index+1\n",
        "    y['id'] = i\n",
        "\n",
        "    w = w+[y[['id','vintage','issued','annual','rate','count','begin','end','monitoring_begin','monitoring_end']]]\n",
        "\n",
        "  return pd.concat(w).reset_index(drop=True)"
      ],
      "execution_count": 0,
      "outputs": []
    },
    {
      "cell_type": "code",
      "metadata": {
        "id": "2dEsjl_ojs9k",
        "colab_type": "code",
        "colab": {}
      },
      "source": [
        "ids = pd.unique(verra_vcu['projectId'])[0:10]\n",
        "#ids = ['1094']\n",
        "extract_issuances_verra(ids=ids,issuances=verra_vcu,projects=verra_projects)"
      ],
      "execution_count": 0,
      "outputs": []
    },
    {
      "cell_type": "code",
      "metadata": {
        "id": "4wecuPHvj6Sd",
        "colab_type": "code",
        "colab": {}
      },
      "source": [
        "verra_vcu[0:5]"
      ],
      "execution_count": 0,
      "outputs": []
    },
    {
      "cell_type": "code",
      "metadata": {
        "id": "kheEMHpDj6U9",
        "colab_type": "code",
        "colab": {}
      },
      "source": [
        ""
      ],
      "execution_count": 0,
      "outputs": []
    },
    {
      "cell_type": "markdown",
      "metadata": {
        "id": "9F0H45JcvqmD",
        "colab_type": "text"
      },
      "source": [
        "## General dataset"
      ]
    },
    {
      "cell_type": "markdown",
      "metadata": {
        "id": "9Zi8wafAtqlr",
        "colab_type": "text"
      },
      "source": [
        "#### Map countries to regions and subregions"
      ]
    },
    {
      "cell_type": "code",
      "metadata": {
        "id": "fuFoc15Itxdp",
        "colab_type": "code",
        "colab": {}
      },
      "source": [
        "def get_countries(iso_list):\n",
        "\n",
        "  country = {}\n",
        "  region = {}\n",
        "  subregion = {}\n",
        "\n",
        "  for iso in iso_list:\n",
        "    try:\n",
        "      if (iso not in country) or (iso not in region) or (iso not in subregion):\n",
        "        response = json.loads(requests.get(f'https://restcountries.eu/rest/v2/alpha/{iso}').text)\n",
        "        country[iso] = response['name']\n",
        "        region[iso] = response['region']\n",
        "        subregion[iso] = response['subregion']\n",
        "    except:\n",
        "        print(f\"Couldn't retrieve data for {iso}\")\n",
        "\n",
        "  return [country,region,subregion]"
      ],
      "execution_count": 0,
      "outputs": []
    },
    {
      "cell_type": "code",
      "metadata": {
        "id": "QEWgGbYytxgo",
        "colab_type": "code",
        "colab": {
          "base_uri": "https://localhost:8080/",
          "height": 1000
        },
        "outputId": "b444e55b-8361-4ce7-d2b2-9dea565bfea8"
      },
      "source": [
        "get_countries(iso_list=gs_projects['country_code'].tolist())"
      ],
      "execution_count": 9,
      "outputs": [
        {
          "output_type": "execute_result",
          "data": {
            "text/plain": [
              "[{'AD': 'Andorra',\n",
              "  'AE': 'United Arab Emirates',\n",
              "  'AF': 'Afghanistan',\n",
              "  'AR': 'Argentina',\n",
              "  'AU': 'Australia',\n",
              "  'AW': 'Aruba',\n",
              "  'AX': 'Åland Islands',\n",
              "  'BD': 'Bangladesh',\n",
              "  'BF': 'Burkina Faso',\n",
              "  'BG': 'Bulgaria',\n",
              "  'BI': 'Burundi',\n",
              "  'BJ': 'Benin',\n",
              "  'BO': 'Bolivia (Plurinational State of)',\n",
              "  'BR': 'Brazil',\n",
              "  'CA': 'Canada',\n",
              "  'CD': 'Congo (Democratic Republic of the)',\n",
              "  'CG': 'Congo',\n",
              "  'CH': 'Switzerland',\n",
              "  'CI': \"Côte d'Ivoire\",\n",
              "  'CL': 'Chile',\n",
              "  'CM': 'Cameroon',\n",
              "  'CN': 'China',\n",
              "  'CO': 'Colombia',\n",
              "  'CR': 'Costa Rica',\n",
              "  'DJ': 'Djibouti',\n",
              "  'DO': 'Dominican Republic',\n",
              "  'DZ': 'Algeria',\n",
              "  'EG': 'Egypt',\n",
              "  'ER': 'Eritrea',\n",
              "  'ET': 'Ethiopia',\n",
              "  'GE': 'Georgia',\n",
              "  'GH': 'Ghana',\n",
              "  'GN': 'Guinea',\n",
              "  'GT': 'Guatemala',\n",
              "  'HN': 'Honduras',\n",
              "  'HT': 'Haiti',\n",
              "  'HU': 'Hungary',\n",
              "  'ID': 'Indonesia',\n",
              "  'IN': 'India',\n",
              "  'IQ': 'Iraq',\n",
              "  'KE': 'Kenya',\n",
              "  'KH': 'Cambodia',\n",
              "  'KM': 'Comoros',\n",
              "  'KZ': 'Kazakhstan',\n",
              "  'LA': \"Lao People's Democratic Republic\",\n",
              "  'LK': 'Sri Lanka',\n",
              "  'LS': 'Lesotho',\n",
              "  'MA': 'Morocco',\n",
              "  'MG': 'Madagascar',\n",
              "  'ML': 'Mali',\n",
              "  'MM': 'Myanmar',\n",
              "  'MN': 'Mongolia',\n",
              "  'MW': 'Malawi',\n",
              "  'MX': 'Mexico',\n",
              "  'MZ': 'Mozambique',\n",
              "  'NC': 'New Caledonia',\n",
              "  'NG': 'Nigeria',\n",
              "  'NI': 'Nicaragua',\n",
              "  'NP': 'Nepal',\n",
              "  'NZ': 'New Zealand',\n",
              "  'PA': 'Panama',\n",
              "  'PE': 'Peru',\n",
              "  'PG': 'Papua New Guinea',\n",
              "  'PH': 'Philippines',\n",
              "  'PK': 'Pakistan',\n",
              "  'RO': 'Romania',\n",
              "  'RU': 'Russian Federation',\n",
              "  'RW': 'Rwanda',\n",
              "  'SD': 'Sudan',\n",
              "  'SL': 'Sierra Leone',\n",
              "  'SN': 'Senegal',\n",
              "  'SV': 'El Salvador',\n",
              "  'TD': 'Chad',\n",
              "  'TG': 'Togo',\n",
              "  'TH': 'Thailand',\n",
              "  'TL': 'Timor-Leste',\n",
              "  'TR': 'Turkey',\n",
              "  'TW': 'Taiwan',\n",
              "  'TZ': 'Tanzania, United Republic of',\n",
              "  'UG': 'Uganda',\n",
              "  'US': 'United States of America',\n",
              "  'VN': 'Viet Nam',\n",
              "  'ZA': 'South Africa',\n",
              "  'ZM': 'Zambia',\n",
              "  'ZW': 'Zimbabwe'},\n",
              " {'AD': 'Europe',\n",
              "  'AE': 'Asia',\n",
              "  'AF': 'Asia',\n",
              "  'AR': 'Americas',\n",
              "  'AU': 'Oceania',\n",
              "  'AW': 'Americas',\n",
              "  'AX': 'Europe',\n",
              "  'BD': 'Asia',\n",
              "  'BF': 'Africa',\n",
              "  'BG': 'Europe',\n",
              "  'BI': 'Africa',\n",
              "  'BJ': 'Africa',\n",
              "  'BO': 'Americas',\n",
              "  'BR': 'Americas',\n",
              "  'CA': 'Americas',\n",
              "  'CD': 'Africa',\n",
              "  'CG': 'Africa',\n",
              "  'CH': 'Europe',\n",
              "  'CI': 'Africa',\n",
              "  'CL': 'Americas',\n",
              "  'CM': 'Africa',\n",
              "  'CN': 'Asia',\n",
              "  'CO': 'Americas',\n",
              "  'CR': 'Americas',\n",
              "  'DJ': 'Africa',\n",
              "  'DO': 'Americas',\n",
              "  'DZ': 'Africa',\n",
              "  'EG': 'Africa',\n",
              "  'ER': 'Africa',\n",
              "  'ET': 'Africa',\n",
              "  'GE': 'Asia',\n",
              "  'GH': 'Africa',\n",
              "  'GN': 'Africa',\n",
              "  'GT': 'Americas',\n",
              "  'HN': 'Americas',\n",
              "  'HT': 'Americas',\n",
              "  'HU': 'Europe',\n",
              "  'ID': 'Asia',\n",
              "  'IN': 'Asia',\n",
              "  'IQ': 'Asia',\n",
              "  'KE': 'Africa',\n",
              "  'KH': 'Asia',\n",
              "  'KM': 'Africa',\n",
              "  'KZ': 'Asia',\n",
              "  'LA': 'Asia',\n",
              "  'LK': 'Asia',\n",
              "  'LS': 'Africa',\n",
              "  'MA': 'Africa',\n",
              "  'MG': 'Africa',\n",
              "  'ML': 'Africa',\n",
              "  'MM': 'Asia',\n",
              "  'MN': 'Asia',\n",
              "  'MW': 'Africa',\n",
              "  'MX': 'Americas',\n",
              "  'MZ': 'Africa',\n",
              "  'NC': 'Oceania',\n",
              "  'NG': 'Africa',\n",
              "  'NI': 'Americas',\n",
              "  'NP': 'Asia',\n",
              "  'NZ': 'Oceania',\n",
              "  'PA': 'Americas',\n",
              "  'PE': 'Americas',\n",
              "  'PG': 'Oceania',\n",
              "  'PH': 'Asia',\n",
              "  'PK': 'Asia',\n",
              "  'RO': 'Europe',\n",
              "  'RU': 'Europe',\n",
              "  'RW': 'Africa',\n",
              "  'SD': 'Africa',\n",
              "  'SL': 'Africa',\n",
              "  'SN': 'Africa',\n",
              "  'SV': 'Americas',\n",
              "  'TD': 'Africa',\n",
              "  'TG': 'Africa',\n",
              "  'TH': 'Asia',\n",
              "  'TL': 'Asia',\n",
              "  'TR': 'Asia',\n",
              "  'TW': 'Asia',\n",
              "  'TZ': 'Africa',\n",
              "  'UG': 'Africa',\n",
              "  'US': 'Americas',\n",
              "  'VN': 'Asia',\n",
              "  'ZA': 'Africa',\n",
              "  'ZM': 'Africa',\n",
              "  'ZW': 'Africa'},\n",
              " {'AD': 'Southern Europe',\n",
              "  'AE': 'Western Asia',\n",
              "  'AF': 'Southern Asia',\n",
              "  'AR': 'South America',\n",
              "  'AU': 'Australia and New Zealand',\n",
              "  'AW': 'Caribbean',\n",
              "  'AX': 'Northern Europe',\n",
              "  'BD': 'Southern Asia',\n",
              "  'BF': 'Western Africa',\n",
              "  'BG': 'Eastern Europe',\n",
              "  'BI': 'Eastern Africa',\n",
              "  'BJ': 'Western Africa',\n",
              "  'BO': 'South America',\n",
              "  'BR': 'South America',\n",
              "  'CA': 'Northern America',\n",
              "  'CD': 'Middle Africa',\n",
              "  'CG': 'Middle Africa',\n",
              "  'CH': 'Western Europe',\n",
              "  'CI': 'Western Africa',\n",
              "  'CL': 'South America',\n",
              "  'CM': 'Middle Africa',\n",
              "  'CN': 'Eastern Asia',\n",
              "  'CO': 'South America',\n",
              "  'CR': 'Central America',\n",
              "  'DJ': 'Eastern Africa',\n",
              "  'DO': 'Caribbean',\n",
              "  'DZ': 'Northern Africa',\n",
              "  'EG': 'Northern Africa',\n",
              "  'ER': 'Eastern Africa',\n",
              "  'ET': 'Eastern Africa',\n",
              "  'GE': 'Western Asia',\n",
              "  'GH': 'Western Africa',\n",
              "  'GN': 'Western Africa',\n",
              "  'GT': 'Central America',\n",
              "  'HN': 'Central America',\n",
              "  'HT': 'Caribbean',\n",
              "  'HU': 'Eastern Europe',\n",
              "  'ID': 'South-Eastern Asia',\n",
              "  'IN': 'Southern Asia',\n",
              "  'IQ': 'Western Asia',\n",
              "  'KE': 'Eastern Africa',\n",
              "  'KH': 'South-Eastern Asia',\n",
              "  'KM': 'Eastern Africa',\n",
              "  'KZ': 'Central Asia',\n",
              "  'LA': 'South-Eastern Asia',\n",
              "  'LK': 'Southern Asia',\n",
              "  'LS': 'Southern Africa',\n",
              "  'MA': 'Northern Africa',\n",
              "  'MG': 'Eastern Africa',\n",
              "  'ML': 'Western Africa',\n",
              "  'MM': 'South-Eastern Asia',\n",
              "  'MN': 'Eastern Asia',\n",
              "  'MW': 'Eastern Africa',\n",
              "  'MX': 'Central America',\n",
              "  'MZ': 'Eastern Africa',\n",
              "  'NC': 'Melanesia',\n",
              "  'NG': 'Western Africa',\n",
              "  'NI': 'Central America',\n",
              "  'NP': 'Southern Asia',\n",
              "  'NZ': 'Australia and New Zealand',\n",
              "  'PA': 'Central America',\n",
              "  'PE': 'South America',\n",
              "  'PG': 'Melanesia',\n",
              "  'PH': 'South-Eastern Asia',\n",
              "  'PK': 'Southern Asia',\n",
              "  'RO': 'Eastern Europe',\n",
              "  'RU': 'Eastern Europe',\n",
              "  'RW': 'Eastern Africa',\n",
              "  'SD': 'Northern Africa',\n",
              "  'SL': 'Western Africa',\n",
              "  'SN': 'Western Africa',\n",
              "  'SV': 'Central America',\n",
              "  'TD': 'Middle Africa',\n",
              "  'TG': 'Western Africa',\n",
              "  'TH': 'South-Eastern Asia',\n",
              "  'TL': 'South-Eastern Asia',\n",
              "  'TR': 'Western Asia',\n",
              "  'TW': 'Eastern Asia',\n",
              "  'TZ': 'Eastern Africa',\n",
              "  'UG': 'Eastern Africa',\n",
              "  'US': 'Northern America',\n",
              "  'VN': 'South-Eastern Asia',\n",
              "  'ZA': 'Southern Africa',\n",
              "  'ZM': 'Eastern Africa',\n",
              "  'ZW': 'Eastern Africa'}]"
            ]
          },
          "metadata": {
            "tags": []
          },
          "execution_count": 9
        }
      ]
    },
    {
      "cell_type": "code",
      "metadata": {
        "id": "RcZZktpDjtAF",
        "colab_type": "code",
        "colab": {}
      },
      "source": [
        ""
      ],
      "execution_count": 0,
      "outputs": []
    },
    {
      "cell_type": "code",
      "metadata": {
        "id": "Hmq8Ql6I2Jt4",
        "colab_type": "code",
        "colab": {}
      },
      "source": [
        ""
      ],
      "execution_count": 0,
      "outputs": []
    },
    {
      "cell_type": "code",
      "metadata": {
        "id": "PejcfXE22Jwn",
        "colab_type": "code",
        "colab": {}
      },
      "source": [
        ""
      ],
      "execution_count": 0,
      "outputs": []
    },
    {
      "cell_type": "code",
      "metadata": {
        "id": "wDB8jbSE2Jx9",
        "colab_type": "code",
        "colab": {}
      },
      "source": [
        ""
      ],
      "execution_count": 0,
      "outputs": []
    }
  ]
}